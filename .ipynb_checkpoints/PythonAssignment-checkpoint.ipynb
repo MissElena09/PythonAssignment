{
 "cells": [
  {
   "cell_type": "markdown",
   "metadata": {},
   "source": [
    "## Import libraries"
   ]
  },
  {
   "cell_type": "code",
   "execution_count": 2,
   "metadata": {},
   "outputs": [],
   "source": [
    "import Bio\n",
    "from Bio import SeqIO\n",
    "from Bio.Data import CodonTable\n",
    "import pandas as pd\n",
    "from Bio.Seq import Seq"
   ]
  },
  {
   "cell_type": "markdown",
   "metadata": {},
   "source": [
    "### get_sequences_from_file function definition\n"
   ]
  },
  {
   "cell_type": "code",
   "execution_count": 3,
   "metadata": {},
   "outputs": [],
   "source": [
    "def get_sequences_from_file(fasta_fn):\n",
    "    sequence_data_dict = {}\n",
    "    for record in SeqIO.parse(fasta_fn, \"fasta\"):\n",
    "        description = record.description.split()\n",
    "        species_name = description[1] + \" \" + description[2]\n",
    "        sequence_data_dict[species_name] = record.seq\n",
    "    return(sequence_data_dict)\n",
    "#get_sequences_from_file('penguins_cytb.fasta')\n",
    "#Def defines a function called get_sequences_from_file, which takes in a fasta file, \n",
    "#and returns a sequence_data_dictionary\n",
    "#can access each individual sequences from key\n"
   ]
  },
  {
   "cell_type": "markdown",
   "metadata": {},
   "source": [
    "### Define a translate_sequences function"
   ]
  },
  {
   "cell_type": "code",
   "execution_count": 4,
   "metadata": {},
   "outputs": [],
   "source": [
    "#input a string of nucleotides to receive an amino acid translation.\n",
    "#only vertebrate mitochondrial translations will be returned\n",
    "\n",
    "\n",
    "#defines a function called translate_sequences, this function takes in a string of nucleotides \n",
    "#and converts the nucleotides into amino acids. \n",
    "#aa_seq_string is being initiated at the beginning.\n",
    "#the for loop iterate through the string and subsets every three nucleotides as condons\n",
    "#the mito_table.forward_table[codon] converts the condon into amino acids\n",
    "#check if codon is stop codon, if true, the aa_seq_string before the stop codon will be returned\n",
    "\n",
    "\n",
    "def translate_sequences(nucl_seq):\n",
    "    mito_table = CodonTable.unambiguous_dna_by_name[\"Vertebrate Mitochondrial\"]\n",
    "    aa_seq_string=\"\"\n",
    "    for nucl in range(0,int(len(nucl_seq)/3)):\n",
    "        codon=nucl_seq[3*nucl:3*nucl+3]\n",
    "        \n",
    "        if codon in [\"TAG\",\"TAA\",\"AGG\",\"AGA\"]:\n",
    "            return aa_seq_string\n",
    "        aa_seq_string=aa_seq_string+mito_table.forward_table[codon]\n",
    "    return(aa_seq_string)"
   ]
  },
  {
   "cell_type": "code",
   "execution_count": 5,
   "metadata": {},
   "outputs": [
    {
     "data": {
      "text/plain": [
       "'MAPNLRKSHPLLKMINKS'"
      ]
     },
     "execution_count": 5,
     "metadata": {},
     "output_type": "execute_result"
    }
   ],
   "source": [
    "#test case\n",
    "translate_sequences('ATGGCCCCCAACCTTCGAAAATCCCACCCTCTCCTAAAAATAATCAACAAATCC')"
   ]
  },
  {
   "cell_type": "markdown",
   "metadata": {},
   "source": [
    "### Alternative translate sequence function by using biopython \n",
    "ref: http://biopython.org/DIST/docs/tutorial/Tutorial.html#htoc25\n",
    "\n",
    "section 3.9 Translation"
   ]
  },
  {
   "cell_type": "code",
   "execution_count": 6,
   "metadata": {},
   "outputs": [],
   "source": [
    "from Bio.Alphabet import IUPAC"
   ]
  },
  {
   "cell_type": "code",
   "execution_count": 7,
   "metadata": {},
   "outputs": [],
   "source": [
    "def biopythonTranslate (nucl_seq):\n",
    "    coding_dna = Seq(nucl_seq,IUPAC.unambiguous_dna)\n",
    "    aa_string=coding_dna.translate()\n",
    "    return aa_string"
   ]
  },
  {
   "cell_type": "code",
   "execution_count": 8,
   "metadata": {},
   "outputs": [
    {
     "data": {
      "text/plain": [
       "Seq('MAPNLRKSHPLLKIINKS', IUPACProtein())"
      ]
     },
     "execution_count": 8,
     "metadata": {},
     "output_type": "execute_result"
    }
   ],
   "source": [
    "#TestCase\n",
    "biopythonTranslate('ATGGCCCCCAACCTTCGAAAATCCCACCCTCTCCTAAAAATAATCAACAAATCC')"
   ]
  },
  {
   "cell_type": "markdown",
   "metadata": {},
   "source": [
    "### Molecular Weight Calculation Function\n",
    "\n",
    "ref: https://biopython.org/wiki/ProtParam\n",
    "\n",
    "The constructor takes two arguments. The first is the protein sequence as a string, which is then converted to a sequence object using the Bio.Seq module. This is done just to make sure the sequence is a protein sequence and not anything else. The second argument is optional. If set to True, the weight of the amino acids will be calculated using their monoisotopic mass (the weight of the most abundant isotopes for each element), instead of the average molecular mass (the averaged weight of all stable isotopes for each element). If set to false (the default value) or left out, the IUPAC average molecular mass will be used for the calculation."
   ]
  },
  {
   "cell_type": "code",
   "execution_count": 9,
   "metadata": {},
   "outputs": [],
   "source": [
    "from Bio.SeqUtils.ProtParam import ProteinAnalysis"
   ]
  },
  {
   "cell_type": "code",
   "execution_count": 10,
   "metadata": {},
   "outputs": [],
   "source": [
    "def compute_molecular_weight(aa_seq):\n",
    "    analysed_seq = ProteinAnalysis(aa_seq)\n",
    "    mw = analysed_seq.molecular_weight()\n",
    "    return mw"
   ]
  },
  {
   "cell_type": "code",
   "execution_count": 11,
   "metadata": {},
   "outputs": [
    {
     "data": {
      "text/plain": [
       "17103.1617"
      ]
     },
     "execution_count": 11,
     "metadata": {},
     "output_type": "execute_result"
    }
   ],
   "source": [
    "#testCase\n",
    "compute_molecular_weight(\"MAEGEITTFTALTEKFNLPPGNYKKPKLLYCSNGGHFLRILPDGTVDGTRDRSDQHIQLQLSAESVGEVYIKSTETGQYLAMDTSGLLYGSQTPSEECLFLERLEENHYNTYTSKKHAEKNWFVGLKKNGSCKRGPRTHYGQKAILFLPLPV\")\n",
    "                          "
   ]
  },
  {
   "cell_type": "markdown",
   "metadata": {},
   "source": [
    "### GC_content percentage Function\n",
    "ref: https://biopython.org/DIST/docs/api/Bio.SeqUtils-module.html#GC\n",
    "This function takes in a nucleotide sequence and calculates the gc_content percentage by number of G+C / total number of nucleotide"
   ]
  },
  {
   "cell_type": "code",
   "execution_count": 12,
   "metadata": {},
   "outputs": [],
   "source": [
    "from Bio.SeqUtils import GC\n",
    "def gc_content(nucl_seq):\n",
    "    return GC(nucl_seq)/100"
   ]
  },
  {
   "cell_type": "code",
   "execution_count": 13,
   "metadata": {},
   "outputs": [
    {
     "data": {
      "text/plain": [
       "0.4444444444444444"
      ]
     },
     "execution_count": 13,
     "metadata": {},
     "output_type": "execute_result"
    }
   ],
   "source": [
    "#testCase\n",
    "gc_content('ATGGCCCCCAACCTTCGAAAATCCCACCCTCTCCTAAAAATAATCAACAAATCC')"
   ]
  },
  {
   "cell_type": "markdown",
   "metadata": {},
   "source": [
    "\n",
    "##   MAIN   ##\n"
   ]
  },
  {
   "cell_type": "markdown",
   "metadata": {},
   "source": [
    "##### Importing necessary files for downstream analysis"
   ]
  },
  {
   "cell_type": "code",
   "execution_count": 14,
   "metadata": {},
   "outputs": [
    {
     "name": "stdout",
     "output_type": "stream",
     "text": [
      "                    species   mass\n",
      "0      Aptenodytes forsteri  28.00\n",
      "1   Aptenodytes patagonicus  13.40\n",
      "2       Eudyptes chrysocome   2.80\n",
      "3     Eudyptes chrysolophus   4.50\n",
      "4         Eudyptes sclateri   4.25\n",
      "5           Eudyptula minor   1.60\n",
      "6        Pygoscelis adeliae   4.60\n",
      "7     Pygoscelis antarctica   4.10\n",
      "8          Pygoscelis papua   6.10\n",
      "9       Spheniscus demersus   3.20\n",
      "10     Spheniscus humboldti   4.75\n",
      "11  Spheniscus magellanicus   3.40\n"
     ]
    }
   ],
   "source": [
    "cytb_seqs = get_sequences_from_file(\"penguins_cytb.fasta\") #calling get_sequences_from_file function\n",
    "penguins_df = pd.read_csv(\"penguins_mass.csv\") # Includes only data for body mass \n",
    "species_list = list(penguins_df.species)\n",
    "\n",
    "print(penguins_df)"
   ]
  },
  {
   "cell_type": "code",
   "execution_count": 15,
   "metadata": {},
   "outputs": [
    {
     "name": "stdout",
     "output_type": "stream",
     "text": [
      "NaN\n"
     ]
    }
   ],
   "source": [
    "penguins_df['molecular_weight']='NaN' #adding a new column 'molecular weight' and setting all the values to NaN(missing)'\n",
    "penguins_df['GC_content'] = 'NaN' #adding a new column 'GC_content' and setting all the values to NaN(missing)\n",
    "print (penguins_df['molecular_weight'][5])"
   ]
  },
  {
   "cell_type": "markdown",
   "metadata": {},
   "source": [
    "#### Adding molecular_weight and GC_content data for each species, calling functions defined above"
   ]
  },
  {
   "cell_type": "code",
   "execution_count": 25,
   "metadata": {},
   "outputs": [
    {
     "name": "stdout",
     "output_type": "stream",
     "text": [
      "                    species   mass molecular_weight GC_content\n",
      "0      Aptenodytes forsteri  28.00          42459.6   0.483815\n",
      "1   Aptenodytes patagonicus  13.40          42459.6   0.496938\n",
      "2       Eudyptes chrysocome   2.80          42459.6   0.511811\n",
      "3     Eudyptes chrysolophus   4.50          42459.6   0.509186\n",
      "4         Eudyptes sclateri   4.25          42459.6   0.508311\n",
      "5           Eudyptula minor   1.60          42459.6   0.492563\n",
      "6        Pygoscelis adeliae   4.60          42459.6   0.490814\n",
      "7     Pygoscelis antarctica   4.10          42459.6    0.47769\n",
      "8          Pygoscelis papua   6.10          42459.6   0.471566\n",
      "9       Spheniscus demersus   3.20          42459.6    0.48294\n",
      "10     Spheniscus humboldti   4.75          42459.6   0.492563\n",
      "11  Spheniscus magellanicus   3.40          42459.6   0.482065\n"
     ]
    }
   ],
   "source": [
    "for key, value in cytb_seqs.items():\n",
    "    aa_seq = translate_sequences(str(value)) #translate the nucleotide sequence to an amino acid sequence\n",
    "    mw = compute_molecular_weight(aa_seq) #calculate molecular weight of amino acid sequence\n",
    "    gcContent = gc_content(value) #calculate GC content of nucleotide squence\n",
    "    penguins_df.loc[penguins_df.species == key,'molecular_weight'] = molWeight #update molecular_weight value of current species\n",
    "    penguins_df.loc[penguins_df.species == key,'GC_content'] = gcContent #update GC_content value of current species\n",
    "    \n",
    "print (penguins_df)"
   ]
  },
  {
   "cell_type": "markdown",
   "metadata": {},
   "source": [
    "## Plotting"
   ]
  },
  {
   "cell_type": "code",
   "execution_count": 21,
   "metadata": {},
   "outputs": [],
   "source": [
    "#import matplotlib, seaborn and numpy for plotting purposes\n",
    "\n",
    "\n",
    "import matplotlib.pyplot as plt\n",
    "import seaborn as sns\n",
    "import numpy as np\n",
    "\n"
   ]
  },
  {
   "cell_type": "markdown",
   "metadata": {},
   "source": [
    "#### Plot mass of each species\n",
    "#### x-axis = species          \n",
    "#### y-axis = mass of each species"
   ]
  },
  {
   "cell_type": "code",
   "execution_count": 24,
   "metadata": {},
   "outputs": [
    {
     "data": {
      "text/plain": [
       "<matplotlib.axes._subplots.AxesSubplot at 0x1a1c67c8d0>"
      ]
     },
     "execution_count": 24,
     "metadata": {},
     "output_type": "execute_result"
    },
    {
     "data": {
      "image/png": "[encoded data removed]",
      "text/plain": [
       "<Figure size 432x288 with 1 Axes>"
      ]
     },
     "metadata": {
      "needs_background": "light"
     },
     "output_type": "display_data"
    }
   ],
   "source": [
    "sns.barplot(x = \"mass\", y = \"species\", data = penguins_df)"
   ]
  },
  {
   "cell_type": "markdown",
   "metadata": {},
   "source": [
    "#### Molecular Weight vs GC_content plot, species are color-coded\n",
    "#### x-axis= GC_content\n",
    "#### y-axis = molecular weight"
   ]
  },
  {
   "cell_type": "code",
   "execution_count": 23,
   "metadata": {},
   "outputs": [
    {
     "data": {
      "text/plain": [
       "<seaborn.axisgrid.FacetGrid at 0x1a1bc9e310>"
      ]
     },
     "execution_count": 23,
     "metadata": {},
     "output_type": "execute_result"
    },
    {
     "data": {
      "image/png": "[encoded data removed]",
      "text/plain": [
       "<Figure size 1027.25x576 with 1 Axes>"
      ]
     },
     "metadata": {
      "needs_background": "light"
     },
     "output_type": "display_data"
    }
   ],
   "source": [
    "my_fig = sns.lmplot(\"GC_content\", \"molecular_weight\", data=penguins_df, fit_reg=False, height=8, \n",
    "                    aspect=1.5, scatter_kws={'alpha':0.6,\"s\": 50}, hue='species', markers='D')\n",
    "my_fig.set_axis_labels('GC_content', 'molecular weight')"
   ]
  },
  {
   "cell_type": "markdown",
   "metadata": {},
   "source": [
    "#### Mass vs GC_content plot, species are color-coded\n",
    "#### x-axis= GC_content\n",
    "#### y-axis= Mass"
   ]
  },
  {
   "cell_type": "code",
   "execution_count": null,
   "metadata": {},
   "outputs": [],
   "source": [
    "my_fig = sns.lmplot(\"GC_content\", \"mass\", data=penguins_df, fit_reg=False, height=8, \n",
    "                    aspect=1.5, scatter_kws={'alpha':0.6,\"s\": 50}, hue='species', markers='D')\n",
    "my_fig.set_axis_labels('GC_content', 'mass')"
   ]
  },
  {
   "cell_type": "code",
   "execution_count": null,
   "metadata": {},
   "outputs": [],
   "source": []
  }
 ],
 "metadata": {
  "kernelspec": {
   "display_name": "Python 3",
   "language": "python",
   "name": "python3"
  },
  "language_info": {
   "codemirror_mode": {
    "name": "ipython",
    "version": 3
   },
   "file_extension": ".py",
   "mimetype": "text/x-python",
   "name": "python",
   "nbconvert_exporter": "python",
   "pygments_lexer": "ipython3",
   "version": "3.7.4"
  }
 },
 "nbformat": 4,
 "nbformat_minor": 2
}
